{
 "cells": [
  {
   "cell_type": "code",
   "execution_count": 76,
   "metadata": {},
   "outputs": [],
   "source": [
    "# Carga de las librerías \n",
    "import torch\n",
    "from torch.utils.data import Dataset, DataLoader\n",
    "from torch import nn\n",
    "import pandas as pd\n",
    "import numpy as np\n",
    "import matplotlib.pyplot as plt\n"
   ]
  },
  {
   "cell_type": "code",
   "execution_count": 63,
   "metadata": {},
   "outputs": [
    {
     "data": {
      "text/plain": [
       "RecursiveScriptModule(\n",
       "  original_name=RedPrecios\n",
       "  (linear_relu_stack): RecursiveScriptModule(\n",
       "    original_name=Sequential\n",
       "    (0): RecursiveScriptModule(original_name=Linear)\n",
       "    (1): RecursiveScriptModule(original_name=ReLU)\n",
       "    (2): RecursiveScriptModule(original_name=Linear)\n",
       "    (3): RecursiveScriptModule(original_name=ReLU)\n",
       "    (4): RecursiveScriptModule(original_name=Linear)\n",
       "  )\n",
       ")"
      ]
     },
     "execution_count": 63,
     "metadata": {},
     "output_type": "execute_result"
    }
   ],
   "source": [
    "model = torch.jit.load('model_scripted.pt')\n",
    "model.eval()"
   ]
  },
  {
   "cell_type": "code",
   "execution_count": 81,
   "metadata": {},
   "outputs": [],
   "source": [
    "from sklearn.preprocessing import MinMaxScaler\n",
    "\n",
    "# Crear el objeto MinMaxScaler\n",
    "scaler = MinMaxScaler()\n",
    "\n",
    "# Ajustar y transformar los datos\n",
    "def Normalizar(paradas,dia,mes,year):\n",
    "\n",
    "    min_parada,max_parada=0,3\n",
    "    day_min,day_max=1,31\n",
    "    mount_min,mount_max=2,4\n",
    "    year_min,year_max=2022.0,2022\n",
    "    paradas=(paradas-min_parada)/(max_parada-min_parada)\n",
    "    dia=(dia-day_min)/(day_max-day_min)\n",
    "    mes=(mes-mount_min)/(mount_max-mount_min)\n",
    "    try:\n",
    "        year= (year-year_min)/(year_max-year_min)\n",
    "    except:\n",
    "        year=0\n",
    "\n",
    "\n",
    "    return [paradas,dia,mes,year]\n"
   ]
  },
  {
   "cell_type": "code",
   "execution_count": 82,
   "metadata": {},
   "outputs": [],
   "source": [
    "def preparacion_datos(aerolinea,source,destino):\n",
    "       aero=\"Air_\"+aerolinea\n",
    "       source=\"Source_\"+source\n",
    "       destino=\"Destination_\"+destino\n",
    "       aerolines={'Air_Aeroflot':0, 'Air_Air Canada':1, 'Air_Air France':2,\n",
    "       'Air_American Airlines':3, 'Air_British Airways':4, 'Air_Delta':5,\n",
    "       'Air_Emirates':6, 'Air_Finnair':7, 'Air_Finnair, American Airlines':8,\n",
    "       'Air_KLM':9, 'Air_LOT':10, 'Air_Lufthansa':11, 'Air_Lufthansa, Egypt Air':12,\n",
    "       'Air_Multiple Airlines':13, 'Air_Qatar Airways':14, 'Air_SAUDIA':15, 'Air_SWISS':16,\n",
    "       'Air_TAP AIR PORTUGAL':17, 'Air_Turkish Airlines':18, 'Air_United Airlines':19}\n",
    "       sources={'Source_NYC':0, 'Source_PAR':1, 'Source_RUH':2, 'Source_SVO':3}\n",
    "       Destinos={'Destination_NYC':0, 'Destination_PAR':1, 'Destination_RUH':2,'Destination_SVO':3}\n",
    "       valor_aero=aerolines[aero]\n",
    "       valor_source=sources[source]\n",
    "       valor_destino=Destinos[destino]\n",
    "       lista_aero=np.zeros(20)\n",
    "       lista_source=np.zeros(4)\n",
    "       lista_destino=np.zeros(4)\n",
    "       lista_aero[valor_aero] = 1\n",
    "       lista_source[valor_source]=1\n",
    "       lista_destino[valor_destino]=1\n",
    "       return list(lista_aero)+list(lista_source)+list(lista_destino)\n",
    "\n"
   ]
  },
  {
   "cell_type": "code",
   "execution_count": 83,
   "metadata": {},
   "outputs": [],
   "source": [
    "aerolinea='American Airlines'\n",
    "source='NYC'\n",
    "Destino='SVO'\n",
    "datos_1=preparacion_datos(aerolinea,source,Destino)\n",
    "datos_2=Normalizar(1,30,4,2022)\n",
    "lista=datos_1+datos_2\n",
    "lista_datos = [float(valor) for valor in lista]"
   ]
  },
  {
   "cell_type": "code",
   "execution_count": 84,
   "metadata": {},
   "outputs": [],
   "source": [
    "device = torch.device('cpu')\n",
    "S = torch.tensor(lista_datos, device=device)\n",
    "a=model(S).detach().numpy()"
   ]
  },
  {
   "cell_type": "code",
   "execution_count": 90,
   "metadata": {},
   "outputs": [
    {
     "data": {
      "text/plain": [
       "array([0.08937007], dtype=float32)"
      ]
     },
     "execution_count": 90,
     "metadata": {},
     "output_type": "execute_result"
    }
   ],
   "source": [
    "a"
   ]
  },
  {
   "cell_type": "code",
   "execution_count": 88,
   "metadata": {},
   "outputs": [
    {
     "data": {
      "text/plain": [
       "-0.007043080653528664"
      ]
     },
     "execution_count": 88,
     "metadata": {},
     "output_type": "execute_result"
    }
   ],
   "source": [
    "min_price=97.2\n",
    "max_price=13885.29\n",
    "price=(a[0]-min_price)/(max_price-min_price)\n",
    "price"
   ]
  },
  {
   "cell_type": "code",
   "execution_count": 94,
   "metadata": {},
   "outputs": [],
   "source": [
    "Data=pd.read_csv(\"./data/Datos_Transformados.csv\")"
   ]
  },
  {
   "cell_type": "code",
   "execution_count": 95,
   "metadata": {},
   "outputs": [],
   "source": [
    "from sklearn.preprocessing import MinMaxScaler\n",
    "\n",
    "# Crear el objeto MinMaxScaler\n",
    "scaler = MinMaxScaler()\n",
    "\n",
    "# Ajustar y transformar los datos\n",
    "Data['Total stops'] = scaler.fit_transform(Data[['Total stops']])\n",
    "Data['Departure_Day'] = scaler.fit_transform(Data[['Departure_Day']])\n",
    "Data['Departure_Month'] = scaler.fit_transform(Data[['Departure_Month']])\n",
    "Data['Departure_Year'] = scaler.fit_transform(Data[['Departure_Year']])\n",
    "Data['Price'] = scaler.fit_transform(Data[['Price']])"
   ]
  },
  {
   "cell_type": "code",
   "execution_count": 100,
   "metadata": {},
   "outputs": [
    {
     "data": {
      "text/plain": [
       "1329.4425944978"
      ]
     },
     "execution_count": 100,
     "metadata": {},
     "output_type": "execute_result"
    }
   ],
   "source": [
    "scaler.inverse_transform([a])[0][0]"
   ]
  }
 ],
 "metadata": {
  "kernelspec": {
   "display_name": "Python 3",
   "language": "python",
   "name": "python3"
  },
  "language_info": {
   "codemirror_mode": {
    "name": "ipython",
    "version": 3
   },
   "file_extension": ".py",
   "mimetype": "text/x-python",
   "name": "python",
   "nbconvert_exporter": "python",
   "pygments_lexer": "ipython3",
   "version": "3.10.6"
  },
  "orig_nbformat": 4
 },
 "nbformat": 4,
 "nbformat_minor": 2
}
